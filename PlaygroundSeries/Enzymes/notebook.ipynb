{
 "cells": [
  {
   "cell_type": "code",
   "execution_count": null,
   "id": "045a3511-3aed-419f-b3fe-a6fe3a7184d2",
   "metadata": {
    "tags": []
   },
   "outputs": [],
   "source": [
    "pip install lightgbm xgboost optuna sklego catboost flaml"
   ]
  },
  {
   "cell_type": "code",
   "execution_count": 2,
   "id": "2ff931bb-32b8-4de8-a1de-c5c80e5ee266",
   "metadata": {
    "tags": []
   },
   "outputs": [
    {
     "name": "stderr",
     "output_type": "stream",
     "text": [
      "Matplotlib is building the font cache; this may take a moment.\n"
     ]
    }
   ],
   "source": [
    "import pandas as pd\n",
    "import numpy as np\n",
    "import matplotlib.pyplot as plt\n",
    "import seaborn as sns\n",
    "pd.set_option('display.max_columns', 500)\n",
    "\n",
    "from flaml import AutoML\n",
    "from xgboost import XGBClassifier\n",
    "from lightgbm import LGBMClassifier\n",
    "from catboost import CatBoostClassifier\n",
    "from sklearn.ensemble import RandomForestClassifier, HistGradientBoostingClassifier\n",
    "from sklearn.metrics import roc_auc_score\n",
    "from sklearn.preprocessing import LabelEncoder\n",
    "from sklearn.model_selection import StratifiedKFold, train_test_split"
   ]
  },
  {
   "cell_type": "code",
   "execution_count": 35,
   "id": "a4a0a43d-a039-4929-94ca-51cadd7ecc33",
   "metadata": {
    "tags": []
   },
   "outputs": [],
   "source": [
    "## Reading the competition data\n",
    "train = pd.read_csv('Data/train.csv')\n",
    "test = pd.read_csv('Data/test.csv')\n",
    "sub = pd.read_csv('Data/sample_submission.csv')"
   ]
  },
  {
   "cell_type": "code",
   "execution_count": 4,
   "id": "b3fce962-940f-4326-af9d-4cdfcf35c5d4",
   "metadata": {
    "tags": []
   },
   "outputs": [
    {
     "data": {
      "text/html": [
       "<div>\n",
       "<style scoped>\n",
       "    .dataframe tbody tr th:only-of-type {\n",
       "        vertical-align: middle;\n",
       "    }\n",
       "\n",
       "    .dataframe tbody tr th {\n",
       "        vertical-align: top;\n",
       "    }\n",
       "\n",
       "    .dataframe thead th {\n",
       "        text-align: right;\n",
       "    }\n",
       "</style>\n",
       "<table border=\"1\" class=\"dataframe\">\n",
       "  <thead>\n",
       "    <tr style=\"text-align: right;\">\n",
       "      <th></th>\n",
       "      <th>id</th>\n",
       "      <th>BertzCT</th>\n",
       "      <th>Chi1</th>\n",
       "      <th>Chi1n</th>\n",
       "      <th>Chi1v</th>\n",
       "      <th>Chi2n</th>\n",
       "      <th>Chi2v</th>\n",
       "      <th>Chi3v</th>\n",
       "      <th>Chi4n</th>\n",
       "      <th>EState_VSA1</th>\n",
       "      <th>...</th>\n",
       "      <th>SlogP_VSA3</th>\n",
       "      <th>VSA_EState9</th>\n",
       "      <th>fr_COO</th>\n",
       "      <th>fr_COO2</th>\n",
       "      <th>EC1</th>\n",
       "      <th>EC2</th>\n",
       "      <th>EC3</th>\n",
       "      <th>EC4</th>\n",
       "      <th>EC5</th>\n",
       "      <th>EC6</th>\n",
       "    </tr>\n",
       "  </thead>\n",
       "  <tbody>\n",
       "    <tr>\n",
       "      <th>0</th>\n",
       "      <td>0</td>\n",
       "      <td>323.390782</td>\n",
       "      <td>9.879918</td>\n",
       "      <td>5.875576</td>\n",
       "      <td>5.875576</td>\n",
       "      <td>4.304757</td>\n",
       "      <td>4.304757</td>\n",
       "      <td>2.754513</td>\n",
       "      <td>1.749203</td>\n",
       "      <td>0.000000</td>\n",
       "      <td>...</td>\n",
       "      <td>4.794537</td>\n",
       "      <td>35.527357</td>\n",
       "      <td>0</td>\n",
       "      <td>0</td>\n",
       "      <td>1</td>\n",
       "      <td>1</td>\n",
       "      <td>0</td>\n",
       "      <td>0</td>\n",
       "      <td>0</td>\n",
       "      <td>0</td>\n",
       "    </tr>\n",
       "    <tr>\n",
       "      <th>1</th>\n",
       "      <td>1</td>\n",
       "      <td>273.723798</td>\n",
       "      <td>7.259037</td>\n",
       "      <td>4.441467</td>\n",
       "      <td>5.834958</td>\n",
       "      <td>3.285046</td>\n",
       "      <td>4.485235</td>\n",
       "      <td>2.201375</td>\n",
       "      <td>1.289775</td>\n",
       "      <td>45.135471</td>\n",
       "      <td>...</td>\n",
       "      <td>13.825658</td>\n",
       "      <td>44.707310</td>\n",
       "      <td>0</td>\n",
       "      <td>0</td>\n",
       "      <td>0</td>\n",
       "      <td>1</td>\n",
       "      <td>1</td>\n",
       "      <td>0</td>\n",
       "      <td>0</td>\n",
       "      <td>0</td>\n",
       "    </tr>\n",
       "    <tr>\n",
       "      <th>2</th>\n",
       "      <td>2</td>\n",
       "      <td>521.643822</td>\n",
       "      <td>10.911303</td>\n",
       "      <td>8.527859</td>\n",
       "      <td>11.050864</td>\n",
       "      <td>6.665291</td>\n",
       "      <td>9.519706</td>\n",
       "      <td>5.824822</td>\n",
       "      <td>1.770579</td>\n",
       "      <td>15.645394</td>\n",
       "      <td>...</td>\n",
       "      <td>17.964475</td>\n",
       "      <td>45.660120</td>\n",
       "      <td>0</td>\n",
       "      <td>0</td>\n",
       "      <td>1</td>\n",
       "      <td>1</td>\n",
       "      <td>0</td>\n",
       "      <td>0</td>\n",
       "      <td>1</td>\n",
       "      <td>0</td>\n",
       "    </tr>\n",
       "    <tr>\n",
       "      <th>3</th>\n",
       "      <td>3</td>\n",
       "      <td>567.431166</td>\n",
       "      <td>12.453343</td>\n",
       "      <td>7.089119</td>\n",
       "      <td>12.833709</td>\n",
       "      <td>6.478023</td>\n",
       "      <td>10.978151</td>\n",
       "      <td>7.914542</td>\n",
       "      <td>3.067181</td>\n",
       "      <td>95.639554</td>\n",
       "      <td>...</td>\n",
       "      <td>31.961948</td>\n",
       "      <td>87.509997</td>\n",
       "      <td>0</td>\n",
       "      <td>0</td>\n",
       "      <td>1</td>\n",
       "      <td>1</td>\n",
       "      <td>0</td>\n",
       "      <td>0</td>\n",
       "      <td>0</td>\n",
       "      <td>0</td>\n",
       "    </tr>\n",
       "    <tr>\n",
       "      <th>4</th>\n",
       "      <td>4</td>\n",
       "      <td>112.770735</td>\n",
       "      <td>4.414719</td>\n",
       "      <td>2.866236</td>\n",
       "      <td>2.866236</td>\n",
       "      <td>1.875634</td>\n",
       "      <td>1.875634</td>\n",
       "      <td>1.036450</td>\n",
       "      <td>0.727664</td>\n",
       "      <td>17.980451</td>\n",
       "      <td>...</td>\n",
       "      <td>9.589074</td>\n",
       "      <td>33.333333</td>\n",
       "      <td>2</td>\n",
       "      <td>2</td>\n",
       "      <td>1</td>\n",
       "      <td>0</td>\n",
       "      <td>1</td>\n",
       "      <td>1</td>\n",
       "      <td>1</td>\n",
       "      <td>0</td>\n",
       "    </tr>\n",
       "  </tbody>\n",
       "</table>\n",
       "<p>5 rows × 38 columns</p>\n",
       "</div>"
      ],
      "text/plain": [
       "   id     BertzCT       Chi1     Chi1n      Chi1v     Chi2n      Chi2v   \n",
       "0   0  323.390782   9.879918  5.875576   5.875576  4.304757   4.304757  \\\n",
       "1   1  273.723798   7.259037  4.441467   5.834958  3.285046   4.485235   \n",
       "2   2  521.643822  10.911303  8.527859  11.050864  6.665291   9.519706   \n",
       "3   3  567.431166  12.453343  7.089119  12.833709  6.478023  10.978151   \n",
       "4   4  112.770735   4.414719  2.866236   2.866236  1.875634   1.875634   \n",
       "\n",
       "      Chi3v     Chi4n  EState_VSA1  ...  SlogP_VSA3  VSA_EState9  fr_COO   \n",
       "0  2.754513  1.749203     0.000000  ...    4.794537    35.527357       0  \\\n",
       "1  2.201375  1.289775    45.135471  ...   13.825658    44.707310       0   \n",
       "2  5.824822  1.770579    15.645394  ...   17.964475    45.660120       0   \n",
       "3  7.914542  3.067181    95.639554  ...   31.961948    87.509997       0   \n",
       "4  1.036450  0.727664    17.980451  ...    9.589074    33.333333       2   \n",
       "\n",
       "   fr_COO2  EC1  EC2  EC3  EC4  EC5  EC6  \n",
       "0        0    1    1    0    0    0    0  \n",
       "1        0    0    1    1    0    0    0  \n",
       "2        0    1    1    0    0    1    0  \n",
       "3        0    1    1    0    0    0    0  \n",
       "4        2    1    0    1    1    1    0  \n",
       "\n",
       "[5 rows x 38 columns]"
      ]
     },
     "execution_count": 4,
     "metadata": {},
     "output_type": "execute_result"
    }
   ],
   "source": [
    "train.head()"
   ]
  },
  {
   "cell_type": "code",
   "execution_count": 5,
   "id": "58f3c632-d056-4fae-8b8d-858fd98c17c9",
   "metadata": {
    "tags": []
   },
   "outputs": [],
   "source": [
    "## Defining input and target variables\n",
    "inputs = train.drop(columns = ['id', 'EC1', 'EC2', 'EC3', 'EC4', 'EC5', 'EC6']).columns\n",
    "targets = ['EC1', 'EC2']"
   ]
  },
  {
   "cell_type": "markdown",
   "id": "084c9168-ab28-4b7a-83c6-9935757ed852",
   "metadata": {},
   "source": [
    "### EC1:"
   ]
  },
  {
   "cell_type": "code",
   "execution_count": 7,
   "id": "7cb881a5-81ff-4798-b61b-bdded5791faa",
   "metadata": {
    "tags": []
   },
   "outputs": [
    {
     "name": "stdout",
     "output_type": "stream",
     "text": [
      "---------------------------------------------------------------\n",
      "Fold 1 ==> FLAML (LGBM) oof ROC-AUC is ==> 0.6933283691083688\n",
      "Fold 1 ==> FLAML (CatBoost) oof ROC-AUC is ==> 0.7014718908592845\n",
      "Fold 1 ==> Average Ensemble oof ROC-AUC score is ==> 0.7017584301992932\n",
      "---------------------------------------------------------------\n",
      "Fold 2 ==> FLAML (LGBM) oof ROC-AUC is ==> 0.706954190006724\n",
      "Fold 2 ==> FLAML (CatBoost) oof ROC-AUC is ==> 0.7120133138523437\n",
      "Fold 2 ==> Average Ensemble oof ROC-AUC score is ==> 0.7132354824520912\n",
      "---------------------------------------------------------------\n",
      "Fold 3 ==> FLAML (LGBM) oof ROC-AUC is ==> 0.6884766992208511\n",
      "Fold 3 ==> FLAML (CatBoost) oof ROC-AUC is ==> 0.6961391459279268\n",
      "Fold 3 ==> Average Ensemble oof ROC-AUC score is ==> 0.6979231601875144\n"
     ]
    }
   ],
   "source": [
    "## Defining input and target variables for training\n",
    "X = train[inputs]\n",
    "Y = train['EC1']\n",
    "X_test = test[inputs]\n",
    "\n",
    "## Creating lists to store results\n",
    "aml_lgb_cv_scores, aml_lgb_preds = list(), list()\n",
    "aml_cat_cv_scores, aml_cat_preds = list(), list()\n",
    "ens_cv_scores, ens_preds = list(), list()\n",
    "\n",
    "## Performing stratified k fold\n",
    "skf = StratifiedKFold(n_splits = 3, random_state = 42, shuffle = True)\n",
    "    \n",
    "for i, (train_idx, valid_idx) in enumerate(skf.split(X, Y)):\n",
    "        \n",
    "    X_train, X_valid = X.iloc[train_idx], X.iloc[valid_idx]\n",
    "    Y_train, Y_valid = Y.iloc[train_idx], Y.iloc[valid_idx]\n",
    "    \n",
    "    print('---------------------------------------------------------------')\n",
    "    \n",
    "    ## FLAML (LGBM) ##\n",
    "    \n",
    "    automl = AutoML()\n",
    "    automl_settings = {'time_budget': 120,  \n",
    "                       'metric': 'roc_auc',\n",
    "                       'task': 'classification',\n",
    "                       'estimator_list': ['lgbm'],\n",
    "                       \"log_file_name\": '',\n",
    "                      }\n",
    "\n",
    "    automl.fit(X_train = X_train, y_train = Y_train, **automl_settings, verbose = False)\n",
    "    \n",
    "    aml_lgb_pred_1 = automl.predict_proba(X_valid)[:, 1]\n",
    "    aml_lgb_pred_2 = automl.predict_proba(X_test)[:, 1]\n",
    "\n",
    "    aml_lgb_score_fold = roc_auc_score(Y_valid, aml_lgb_pred_1)\n",
    "    aml_lgb_cv_scores.append(aml_lgb_score_fold)\n",
    "    aml_lgb_preds.append(aml_lgb_pred_2)\n",
    "    \n",
    "    print('Fold', i+1, '==> FLAML (LGBM) oof ROC-AUC is ==>', aml_lgb_score_fold)\n",
    "    \n",
    "    ## FLAML (CatBoost) ##\n",
    "    \n",
    "    automl = AutoML()\n",
    "    automl_settings = {'time_budget': 120,  \n",
    "                       'metric': 'roc_auc',\n",
    "                       'task': 'classification',\n",
    "                       'estimator_list': ['catboost'],\n",
    "                       \"log_file_name\": '',\n",
    "                      }\n",
    "\n",
    "    automl.fit(X_train = X_train, y_train = Y_train, **automl_settings, verbose = False)\n",
    "    \n",
    "    aml_cat_pred_1 = automl.predict_proba(X_valid)[:, 1]\n",
    "    aml_cat_pred_2 = automl.predict_proba(X_test)[:, 1]\n",
    "    \n",
    "    aml_cat_score_fold = roc_auc_score(Y_valid, aml_cat_pred_1)\n",
    "    aml_cat_cv_scores.append(aml_cat_score_fold)\n",
    "    aml_cat_preds.append(aml_cat_pred_2)\n",
    "    \n",
    "    print('Fold', i+1, '==> FLAML (CatBoost) oof ROC-AUC is ==>', aml_cat_score_fold)\n",
    "    \n",
    "    ######################\n",
    "    ## Average Ensemble ##\n",
    "    ######################\n",
    "    \n",
    "    ens_pred_1 = (aml_lgb_pred_1 + 2 * aml_cat_pred_1) / 3\n",
    "    ens_pred_2 = (aml_lgb_pred_2 + 2 * aml_cat_pred_2) / 3\n",
    "    \n",
    "    ens_score_fold = roc_auc_score(Y_valid, ens_pred_1)\n",
    "    ens_cv_scores.append(ens_score_fold)\n",
    "    ens_preds.append(ens_pred_2)\n",
    "    \n",
    "    print('Fold', i+1, '==> Average Ensemble oof ROC-AUC score is ==>', ens_score_fold)"
   ]
  },
  {
   "cell_type": "code",
   "execution_count": 8,
   "id": "a7322b0e-5b08-4d3d-8f8f-6243d3546acb",
   "metadata": {
    "tags": []
   },
   "outputs": [
    {
     "name": "stdout",
     "output_type": "stream",
     "text": [
      "LGBM:  0.6962530861119812\n",
      "CAT:  0.7032081168798516\n",
      "ENSEMBLE:  0.7043056909462996\n"
     ]
    }
   ],
   "source": [
    "flaml_lgb = np.mean(aml_lgb_cv_scores)\n",
    "flaml_cat = np.mean(aml_cat_cv_scores)\n",
    "ens_cv_score = np.mean(ens_cv_scores)\n",
    "\n",
    "print('LGBM: ', flaml_lgb)\n",
    "print('CAT: ', flaml_cat)\n",
    "print('ENSEMBLE: ', ens_cv_score)"
   ]
  },
  {
   "cell_type": "code",
   "execution_count": 19,
   "id": "0bd53fb1-6fd4-4c0f-bbcc-68c2ec693368",
   "metadata": {
    "tags": []
   },
   "outputs": [],
   "source": [
    "lgb_preds_EC1 = pd.DataFrame(aml_lgb_preds).apply(np.mean, axis = 0)\n",
    "cat_preds_EC1 = pd.DataFrame(aml_cat_preds).apply(np.mean, axis = 0)\n",
    "ens_preds_EC1 = pd.DataFrame(ens_preds).apply(np.mean, axis = 0)"
   ]
  },
  {
   "cell_type": "markdown",
   "id": "5fce6068-5906-4b39-a8f2-4a809fd43db1",
   "metadata": {},
   "source": [
    "### EC2:"
   ]
  },
  {
   "cell_type": "code",
   "execution_count": 10,
   "id": "9ddf2f07-c533-43d8-9898-bc6164a81a76",
   "metadata": {
    "tags": []
   },
   "outputs": [
    {
     "name": "stdout",
     "output_type": "stream",
     "text": [
      "---------------------------------------------------------------\n",
      "Fold 1 ==> FLAML (LGBM) oof ROC-AUC is ==> 0.581510571526324\n",
      "Fold 1 ==> FLAML (CatBoost) oof ROC-AUC is ==> 0.5885879548546339\n",
      "Fold 1 ==> Average Ensemble oof ROC-AUC score is ==> 0.5896543226973174\n",
      "---------------------------------------------------------------\n",
      "Fold 2 ==> FLAML (LGBM) oof ROC-AUC is ==> 0.5890642437621681\n",
      "Fold 2 ==> FLAML (CatBoost) oof ROC-AUC is ==> 0.5867380395734733\n",
      "Fold 2 ==> Average Ensemble oof ROC-AUC score is ==> 0.5869915851383605\n",
      "---------------------------------------------------------------\n",
      "Fold 3 ==> FLAML (LGBM) oof ROC-AUC is ==> 0.569117671373827\n",
      "Fold 3 ==> FLAML (CatBoost) oof ROC-AUC is ==> 0.5814448094687561\n",
      "Fold 3 ==> Average Ensemble oof ROC-AUC score is ==> 0.5817140625934023\n"
     ]
    }
   ],
   "source": [
    "## Defining input and target variables for training\n",
    "X = train[inputs]\n",
    "Y = train['EC2']\n",
    "X_test = test[inputs]\n",
    "\n",
    "## Creating lists to store results\n",
    "aml_lgb_cv_scores, aml_lgb_preds = list(), list()\n",
    "aml_cat_cv_scores, aml_cat_preds = list(), list()\n",
    "ens_cv_scores, ens_preds = list(), list()\n",
    "\n",
    "## Performing stratified k fold\n",
    "skf = StratifiedKFold(n_splits = 3, random_state = 42, shuffle = True)\n",
    "    \n",
    "for i, (train_idx, valid_idx) in enumerate(skf.split(X, Y)):\n",
    "        \n",
    "    X_train, X_valid = X.iloc[train_idx], X.iloc[valid_idx]\n",
    "    Y_train, Y_valid = Y.iloc[train_idx], Y.iloc[valid_idx]\n",
    "    \n",
    "    print('---------------------------------------------------------------')\n",
    "    \n",
    "    ## FLAML (LGBM) ##\n",
    "    \n",
    "    automl = AutoML()\n",
    "    automl_settings = {'time_budget': 120,  \n",
    "                       'metric': 'roc_auc',\n",
    "                       'task': 'classification',\n",
    "                       'estimator_list': ['lgbm'],\n",
    "                       \"log_file_name\": '',\n",
    "                      }\n",
    "\n",
    "    automl.fit(X_train = X_train, y_train = Y_train, **automl_settings, verbose = False)\n",
    "    \n",
    "    aml_lgb_pred_1 = automl.predict_proba(X_valid)[:, 1]\n",
    "    aml_lgb_pred_2 = automl.predict_proba(X_test)[:, 1]\n",
    "\n",
    "    aml_lgb_score_fold = roc_auc_score(Y_valid, aml_lgb_pred_1)\n",
    "    aml_lgb_cv_scores.append(aml_lgb_score_fold)\n",
    "    aml_lgb_preds.append(aml_lgb_pred_2)\n",
    "    \n",
    "    print('Fold', i+1, '==> FLAML (LGBM) oof ROC-AUC is ==>', aml_lgb_score_fold)\n",
    "    \n",
    "    ## FLAML (CatBoost) ##\n",
    "    \n",
    "    automl = AutoML()\n",
    "    automl_settings = {'time_budget': 120,  \n",
    "                       'metric': 'roc_auc',\n",
    "                       'task': 'classification',\n",
    "                       'estimator_list': ['catboost'],\n",
    "                       \"log_file_name\": '',\n",
    "                      }\n",
    "\n",
    "    automl.fit(X_train = X_train, y_train = Y_train, **automl_settings, verbose = False)\n",
    "    \n",
    "    aml_cat_pred_1 = automl.predict_proba(X_valid)[:, 1]\n",
    "    aml_cat_pred_2 = automl.predict_proba(X_test)[:, 1]\n",
    "    \n",
    "    aml_cat_score_fold = roc_auc_score(Y_valid, aml_cat_pred_1)\n",
    "    aml_cat_cv_scores.append(aml_cat_score_fold)\n",
    "    aml_cat_preds.append(aml_cat_pred_2)\n",
    "    \n",
    "    print('Fold', i+1, '==> FLAML (CatBoost) oof ROC-AUC is ==>', aml_cat_score_fold)\n",
    "    \n",
    "    ######################\n",
    "    ## Average Ensemble ##\n",
    "    ######################\n",
    "    \n",
    "    ens_pred_1 = (aml_lgb_pred_1 + 2 * aml_cat_pred_1) / 3\n",
    "    ens_pred_2 = (aml_lgb_pred_2 + 2 * aml_cat_pred_2) / 3\n",
    "    \n",
    "    ens_score_fold = roc_auc_score(Y_valid, ens_pred_1)\n",
    "    ens_cv_scores.append(ens_score_fold)\n",
    "    ens_preds.append(ens_pred_2)\n",
    "    \n",
    "    print('Fold', i+1, '==> Average Ensemble oof ROC-AUC score is ==>', ens_score_fold)"
   ]
  },
  {
   "cell_type": "code",
   "execution_count": 11,
   "id": "d744ffaf-e733-4fbb-a068-7a16fde9181b",
   "metadata": {
    "tags": []
   },
   "outputs": [
    {
     "name": "stdout",
     "output_type": "stream",
     "text": [
      "LGBM:  0.5798974955541064\n",
      "CAT:  0.5855902679656211\n",
      "ENSEMBLE:  0.5861199901430267\n"
     ]
    }
   ],
   "source": [
    "flaml_lgb = np.mean(aml_lgb_cv_scores)\n",
    "flaml_cat = np.mean(aml_cat_cv_scores)\n",
    "ens_cv_score = np.mean(ens_cv_scores)\n",
    "\n",
    "print('LGBM: ', flaml_lgb)\n",
    "print('CAT: ', flaml_cat)\n",
    "print('ENSEMBLE: ', ens_cv_score)"
   ]
  },
  {
   "cell_type": "code",
   "execution_count": 18,
   "id": "01c0cb6c-555b-453f-8c94-182d1d050968",
   "metadata": {
    "tags": []
   },
   "outputs": [],
   "source": [
    "lgb_preds_EC2 = pd.DataFrame(aml_lgb_preds).apply(np.mean, axis = 0)\n",
    "cat_preds_EC2 = pd.DataFrame(aml_cat_preds).apply(np.mean, axis = 0)\n",
    "ens_preds_EC2 = pd.DataFrame(ens_preds).apply(np.mean, axis = 0)"
   ]
  },
  {
   "cell_type": "markdown",
   "id": "dca4c068-b0ab-4de6-b026-52734665d4ca",
   "metadata": {},
   "source": [
    "### Putting it all together:"
   ]
  },
  {
   "cell_type": "code",
   "execution_count": 36,
   "id": "77b8bebf-7ac8-4a30-a027-fb3dbabdcbf7",
   "metadata": {
    "tags": []
   },
   "outputs": [],
   "source": [
    "sub['EC1'] = lgb_preds_EC1\n",
    "sub['EC2'] = lgb_preds_EC2\n",
    "sub.to_csv('Submissions/LGBM_baseline.csv', index = False)\n",
    "\n",
    "sub['EC1'] = lgb_preds_EC1 \n",
    "sub['EC2'] = cat_preds_EC2\n",
    "sub.to_csv('Submissions/LGBM_CAT_baseline.csv', index = False)\n",
    "\n",
    "sub['EC1'] = lgb_preds_EC1 \n",
    "sub['EC2'] = ens_preds_EC2\n",
    "sub.to_csv('Submissions/LGBM_ENS_baseline.csv', index = False)\n",
    "\n",
    "sub['EC1'] = cat_preds_EC1 \n",
    "sub['EC2'] = lgb_preds_EC2\n",
    "sub.to_csv('Submissions/CAT_LGBM_baseline.csv', index = False)\n",
    "\n",
    "sub['EC1'] = cat_preds_EC1 \n",
    "sub['EC2'] = cat_preds_EC2\n",
    "sub.to_csv('Submissions/CAT_baseline.csv', index = False)\n",
    "\n",
    "sub['EC1'] = cat_preds_EC1 \n",
    "sub['EC2'] = ens_preds_EC2\n",
    "sub.to_csv('Submissions/CAT_ENS_baseline.csv', index = False)\n",
    "\n",
    "sub['EC1'] = ens_preds_EC1 \n",
    "sub['EC2'] = lgb_preds_EC2\n",
    "sub.to_csv('Submissions/ENS_LGBM_baseline.csv', index = False)\n",
    "\n",
    "sub['EC1'] = ens_preds_EC1 \n",
    "sub['EC2'] = cat_preds_EC2\n",
    "sub.to_csv('Submissions/ENS_CAT_baseline.csv', index = False)\n",
    "\n",
    "sub['EC1'] = ens_preds_EC1 \n",
    "sub['EC2'] = ens_preds_EC2\n",
    "sub.to_csv('Submissions/ENS_baseline.csv', index = False)"
   ]
  },
  {
   "cell_type": "code",
   "execution_count": 37,
   "id": "78da5549-fd5b-4c3d-ae25-4f303865b249",
   "metadata": {
    "tags": []
   },
   "outputs": [
    {
     "data": {
      "text/html": [
       "<div>\n",
       "<style scoped>\n",
       "    .dataframe tbody tr th:only-of-type {\n",
       "        vertical-align: middle;\n",
       "    }\n",
       "\n",
       "    .dataframe tbody tr th {\n",
       "        vertical-align: top;\n",
       "    }\n",
       "\n",
       "    .dataframe thead th {\n",
       "        text-align: right;\n",
       "    }\n",
       "</style>\n",
       "<table border=\"1\" class=\"dataframe\">\n",
       "  <thead>\n",
       "    <tr style=\"text-align: right;\">\n",
       "      <th></th>\n",
       "      <th>id</th>\n",
       "      <th>EC1</th>\n",
       "      <th>EC2</th>\n",
       "    </tr>\n",
       "  </thead>\n",
       "  <tbody>\n",
       "    <tr>\n",
       "      <th>0</th>\n",
       "      <td>14838</td>\n",
       "      <td>0.792725</td>\n",
       "      <td>0.793511</td>\n",
       "    </tr>\n",
       "    <tr>\n",
       "      <th>1</th>\n",
       "      <td>14839</td>\n",
       "      <td>0.812629</td>\n",
       "      <td>0.807463</td>\n",
       "    </tr>\n",
       "    <tr>\n",
       "      <th>2</th>\n",
       "      <td>14840</td>\n",
       "      <td>0.756623</td>\n",
       "      <td>0.747261</td>\n",
       "    </tr>\n",
       "    <tr>\n",
       "      <th>3</th>\n",
       "      <td>14841</td>\n",
       "      <td>0.808022</td>\n",
       "      <td>0.811117</td>\n",
       "    </tr>\n",
       "    <tr>\n",
       "      <th>4</th>\n",
       "      <td>14842</td>\n",
       "      <td>0.774081</td>\n",
       "      <td>0.757889</td>\n",
       "    </tr>\n",
       "  </tbody>\n",
       "</table>\n",
       "</div>"
      ],
      "text/plain": [
       "      id       EC1       EC2\n",
       "0  14838  0.792725  0.793511\n",
       "1  14839  0.812629  0.807463\n",
       "2  14840  0.756623  0.747261\n",
       "3  14841  0.808022  0.811117\n",
       "4  14842  0.774081  0.757889"
      ]
     },
     "execution_count": 37,
     "metadata": {},
     "output_type": "execute_result"
    }
   ],
   "source": [
    "sub.head()"
   ]
  }
 ],
 "metadata": {
  "kernelspec": {
   "display_name": "conda_python3",
   "language": "python",
   "name": "conda_python3"
  },
  "language_info": {
   "codemirror_mode": {
    "name": "ipython",
    "version": 3
   },
   "file_extension": ".py",
   "mimetype": "text/x-python",
   "name": "python",
   "nbconvert_exporter": "python",
   "pygments_lexer": "ipython3",
   "version": "3.10.10"
  }
 },
 "nbformat": 4,
 "nbformat_minor": 5
}
